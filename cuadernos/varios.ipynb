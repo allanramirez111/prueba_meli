{
 "cells": [
  {
   "cell_type": "code",
   "execution_count": null,
   "metadata": {},
   "outputs": [],
   "source": [
    "## Extraer hoja de excel y guardarla como csv\n",
    "\n",
    "import pandas as pd\n",
    "\n",
    "df = pd.read_excel('../datos/Work Sample 2025 - Analista Sr. de Operaciones & Analytics - Moderaciones IT.xlsx', sheet_name=2)\n",
    "\n",
    "df.to_csv('../datos/base.csv', index=False)"
   ]
  }
 ],
 "metadata": {
  "kernelspec": {
   "display_name": "venv",
   "language": "python",
   "name": "python3"
  },
  "language_info": {
   "codemirror_mode": {
    "name": "ipython",
    "version": 3
   },
   "file_extension": ".py",
   "mimetype": "text/x-python",
   "name": "python",
   "nbconvert_exporter": "python",
   "pygments_lexer": "ipython3",
   "version": "3.12.5"
  }
 },
 "nbformat": 4,
 "nbformat_minor": 2
}
